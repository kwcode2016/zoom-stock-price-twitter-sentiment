{
 "cells": [
  {
   "attachments": {},
   "cell_type": "markdown",
   "metadata": {},
   "source": [
    "# Step 9 Scale Your ML (DL) Prototype"
   ]
  },
  {
   "cell_type": "code",
   "execution_count": null,
   "metadata": {},
   "outputs": [],
   "source": [
    "\n",
    "# fill in sentiment_final (to get ready to finetune RoBERTa)\n",
    "    # create a new column sentiment_final\n",
    "        # if svm_sentiment == r_sentiment: update sentiment_final = r_sentiment \n",
    "        # at this point, there will be lots of blanks where svm_sentiment != r_sentiment\n",
    "    # detailed list of MISMATCH- \n",
    "        # if svm_sentiment != r_sentiment: print (clean_tweet, svm_sentiment, r_sentiment)\n",
    "        # manually look at the tweet and update sentiment_final (the other matching sentiments should already filled)\n",
    "            # find a way to easily display and have 3 buttons to get response by me\n",
    "            # update sentiment_final\n",
    "\n",
    "# Save df to 'zm_5k_tweets_with_sentiment_final.csv' (will be used to finetune RoBERTa)\n",
    "\n",
    "\n",
    "\n",
    " "
   ]
  },
  {
   "attachments": {},
   "cell_type": "markdown",
   "metadata": {},
   "source": [
    "# FINETUNE RoBERTa with final_sentiment. \n",
    "I assume that the svm and robeta match are already trained in the model.\n",
    "\n",
    "Finetune using the mismatch rows with the new final_sentiment row.\n",
    "\n",
    "Save the finetuned data "
   ]
  },
  {
   "cell_type": "code",
   "execution_count": null,
   "metadata": {},
   "outputs": [],
   "source": [
    "# load 'zm_5k_tweets_with_final_sentiment.csv'\n",
    "# I assume that the svm and robeta match are already trained in the model. (becauase they match, RoBERTa will always predict the same outcome)\n",
    "\n",
    "# Finetune using the mismatch rows with the new final_sentiment row.\n",
    "\n",
    "# Save the finetuned data for future use and not have to finetune each time.\n",
    "\n",
    "# Main goal is to do the over 100k zm_tweets"
   ]
  }
 ],
 "metadata": {
  "language_info": {
   "name": "python"
  },
  "orig_nbformat": 4
 },
 "nbformat": 4,
 "nbformat_minor": 2
}
