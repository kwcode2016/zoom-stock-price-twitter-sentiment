{
 "cells": [
  {
   "attachments": {},
   "cell_type": "markdown",
   "metadata": {},
   "source": [
    "# Step 9 Scale Your ML (DL) Prototype"
   ]
  },
  {
   "attachments": {},
   "cell_type": "markdown",
   "metadata": {},
   "source": [
    "From Step 8, out of the 5.8k tweets and after sentiment analysis between SVM and RoBERTa, we find that there are 1352 differences in sentiment analysis."
   ]
  },
  {
   "cell_type": "code",
   "execution_count": 2,
   "metadata": {},
   "outputs": [
    {
     "name": "stdout",
     "output_type": "stream",
     "text": [
      "1352\n"
     ]
    }
   ],
   "source": [
    "import pandas as pd\n",
    "\n",
    "# Save zm_mismatch_df to csv\n",
    "\n",
    "zm_mismatch_df = pd.read_csv('zm_mismatch_df.csv')\n",
    "print(len(zm_mismatch_df))"
   ]
  },
  {
   "attachments": {},
   "cell_type": "markdown",
   "metadata": {},
   "source": [
    "I found that cashtags with more than 3 were mostly SPAM tweets, or reports on many other stocks too which is hard to analyze the sentiment just for the Zoom Stock. I removed all tweets with more than 3 cashtags.\n",
    "\n",
    "note: Cashtags (e.g. $ZM, $TSLA) is how twitter identifies stock symbols. Zoom stock symbol is ZM"
   ]
  },
  {
   "cell_type": "code",
   "execution_count": null,
   "metadata": {},
   "outputs": [],
   "source": [
    "\n",
    "# fill in sentiment_final (to get ready to finetune RoBERTa)\n",
    "    # create a new column sentiment_final\n",
    "        # if svm_sentiment == r_sentiment: update sentiment_final = r_sentiment \n",
    "        # at this point, there will be lots of blanks where svm_sentiment != r_sentiment\n",
    "    # detailed list of MISMATCH- \n",
    "        # if svm_sentiment != r_sentiment: print (clean_tweet, svm_sentiment, r_sentiment)\n",
    "        # manually look at the tweet and update sentiment_final (the other matching sentiments should already filled)\n",
    "            # find a way to easily display and have 3 buttons to get response by me\n",
    "            # update sentiment_final\n",
    "\n",
    "# Save df to 'zm_5k_tweets_with_sentiment_final.csv' (will be used to finetune RoBERTa)\n",
    "\n",
    "\n",
    "\n",
    " "
   ]
  },
  {
   "attachments": {},
   "cell_type": "markdown",
   "metadata": {},
   "source": [
    "# FINETUNE RoBERTa with final_sentiment. \n",
    "I assume that the svm and robeta match are already trained in the model.\n",
    "\n",
    "Finetune using the mismatch rows with the new final_sentiment row.\n",
    "\n",
    "Save the finetuned data "
   ]
  },
  {
   "cell_type": "code",
   "execution_count": 3,
   "metadata": {},
   "outputs": [
    {
     "name": "stdout",
     "output_type": "stream",
     "text": [
      "          text  label\n",
      "8  sample text      2\n",
      "5  sample text      2\n",
      "6  sample text      0\n",
      "9  sample text      0\n",
      "4  sample text      1\n",
      "0  sample text      0\n",
      "1  sample text      1\n",
      "          text  label\n",
      "7  sample text      1\n",
      "3  sample text      0\n",
      "2  sample text      2\n"
     ]
    }
   ],
   "source": [
    "import random\n",
    "\n",
    "def train_test_split(data, test_size=0.2, random_state=None):\n",
    "    if random_state:\n",
    "        random.seed(random_state)\n",
    "\n",
    "    data_length = len(data)\n",
    "    test_length = int(data_length * test_size)\n",
    "    indices = list(range(data_length))\n",
    "    random.shuffle(indices)\n",
    "\n",
    "    test_indices = indices[:test_length]\n",
    "    train_indices = indices[test_length:]\n",
    "\n",
    "    train_data = data.iloc[train_indices]\n",
    "    test_data = data.iloc[test_indices]\n",
    "\n",
    "    return train_data, test_data\n",
    "\n",
    "# Example usage with a pandas DataFrame\n",
    "import pandas as pd\n",
    "\n",
    "data = pd.DataFrame({\"text\": [\"sample text\"] * 10, \"label\": [0, 1, 2, 0, 1, 2, 0, 1, 2, 0]})\n",
    "train_data, test_data = train_test_split(data, test_size=0.3, random_state=42)\n",
    "\n",
    "print(train_data)\n",
    "print(test_data)\n"
   ]
  },
  {
   "cell_type": "code",
   "execution_count": null,
   "metadata": {},
   "outputs": [],
   "source": [
    "# load 'zm_5k_tweets_with_final_sentiment.csv'\n",
    "# I assume that the svm and robeta match are already trained in the model. (becauase they match, RoBERTa will always predict the same outcome)\n",
    "\n",
    "# Finetune using the mismatch rows with the new final_sentiment row.\n",
    "\n",
    "# Save the finetuned data for future use and not have to finetune each time.\n",
    "\n",
    "# Main goal is to do the over 100k zm_tweets"
   ]
  }
 ],
 "metadata": {
  "kernelspec": {
   "display_name": "base",
   "language": "python",
   "name": "python3"
  },
  "language_info": {
   "codemirror_mode": {
    "name": "ipython",
    "version": 3
   },
   "file_extension": ".py",
   "mimetype": "text/x-python",
   "name": "python",
   "nbconvert_exporter": "python",
   "pygments_lexer": "ipython3",
   "version": "3.9.12"
  },
  "orig_nbformat": 4
 },
 "nbformat": 4,
 "nbformat_minor": 2
}
