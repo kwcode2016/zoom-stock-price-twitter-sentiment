{
 "cells": [
  {
   "attachments": {},
   "cell_type": "markdown",
   "metadata": {},
   "source": [
    "# Prototype for Twitter Sentiment Analysis for Zoom Stock\n",
    "\n",
    "This Prototype will implement the skeleton of the final project.\n",
    "\n",
    "It will have the following components\n",
    "- Currently it will use the 17k tweets from step 7 as prototype data. \n",
    "    - it isn't zoom tweets, as I am still working on the final zoom tweets with sentiment as currently RoBERTA takes a very long time to run. I am trying to use PyTorch with CUDA to speed up the operation.\n",
    "- Functions to get tweets from date range\n",
    "- Functions to get zoom prices from date range\n",
    "- functions to combine into 1 dataframe the prices and tweets\n",
    "- display the last 7 day average sentiments for a particular day\n"
   ]
  }
 ],
 "metadata": {
  "language_info": {
   "name": "python"
  },
  "orig_nbformat": 4
 },
 "nbformat": 4,
 "nbformat_minor": 2
}
