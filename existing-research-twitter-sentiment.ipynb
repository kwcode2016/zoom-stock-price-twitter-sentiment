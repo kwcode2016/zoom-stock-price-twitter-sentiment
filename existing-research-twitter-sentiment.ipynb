{
 "cells": [
  {
   "attachments": {},
   "cell_type": "markdown",
   "metadata": {},
   "source": [
    "# Survey Existing Research\n",
    "\n",
    "There are a number of twitter sentiment articles and papers. A number of articles are using more classic Machine Learning models. The exciting articles and papers are involving the introduction of Transformers.\n",
    "\n",
    "Also exciting are the models by HuggingFace with NLP analysis with Transformers. Cardiff University NLP Group has used the HuggingFace Roberta Transformer model trained with Tweets for sentiment analysis which I will use for this project.\n",
    "\n"
   ]
  },
  {
   "attachments": {},
   "cell_type": "markdown",
   "metadata": {},
   "source": [
    "## Research with traditional Machine Learning Methods\n",
    "\n",
    "The following research papers use traditional Machine Learning \n",
    "\n",
    "#### Paper 1: Twitter Sentiment Analysis by Alex Go, Lei Huang, Richa Bhayani\n",
    "\n",
    "https://www-nlp.stanford.edu/courses/cs224n/2009/fp/3.pdf\n",
    "\n",
    "ML Methods used: \n",
    "- Naive Bayes\n",
    "- X^2 Feature Selection\n",
    "- Maximum Entropy\n",
    "- Support Vector Machines\n",
    "\n",
    "\n",
    "#### Paper 2: Twitter Sentiment Analysis by Aliza Sarlan and Shuib Basri\n",
    "\n",
    "https://www.researchgate.net/profile/Aliza-Sarlan/publication/301408174_Twitter_sentiment_analysis/links/581a897508ae30a2c01caf20/Twitter-sentiment-analysis.pdf\n",
    "\n",
    "ML Methods Used:\n",
    "- Lexicon Based Method\n",
    "- Artificial Neural Network (ANN)\n",
    "- Support Vector Machine (SVM)\n",
    "\n",
    "\n",
    "#### Paper 3: TLike It or Not: A Survey of Twitter Sentiment Analysis Methods by ANASTASIA GIACHANOU and FABIO CRESTANI\n",
    "\n",
    "http://old-eclass.uop.gr/modules/document/file.php/DIT104/%CE%92%CE%B9%CE%B2%CE%BB%CE%B9%CE%BF%CE%B3%CF%81%CE%B1%CF%86%CE%AF%CE%B1%202017-2018/Like%20It%20or%20Not%20A%20Survey%20of%20Twitter%20Sentiment%20Analysis%20Methods.pdf\n",
    "\n",
    "This paper didn't do their own Machine Learning experiments, but did in depth research of many other papers. Also the challenges met by other authors and gave some insight on how to grapple with those issues. \n"
   ]
  },
  {
   "attachments": {},
   "cell_type": "markdown",
   "metadata": {},
   "source": [
    "#### Transformer Based Twitter Sentiment Analysis\n",
    "\n",
    "\n",
    "#### Paper 4: Twitter Sentiment Analysis (Part 2) by Başak Buluz Kömeçoğlu\n",
    "\n",
    "https://heartbeat.comet.ml/twitter-sentiment-analysis-part-2-5d7fabc4e8ef\n",
    "\n",
    "ML Method Used:\n",
    "- BERT (specifically Twitter Roberta - cardiffnlp/twitter-roberta-base-sentiment)\n",
    "\n",
    "\n",
    "#### Paper 5: BERT-kNN: Adding a kNN Search Component to Pretrained Language\n",
    "Models for Better QA\n",
    "\n",
    "https://arxiv.org/pdf/2005.00766.pdf\n",
    "\n",
    "This paper isn't specifically about Twitter Sentiment Analysis, but it does highlight an interesting method of combining BERT with k Nearest Neighbour (kNN) which result in better question answering (QA).\n",
    "\n",
    "ML Method Used:\n",
    "- BERT with kNN\n",
    "\n",
    "\n",
    "#### Paper 6: TSA-CNN-AOA: Twitter sentiment analysis using CNN optimized via arithmetic optimization algorithm by Serpil Aslan, Soner Kızıloluk & Eser Sert\n",
    "\n",
    "https://link.springer.com/article/10.1007/s00521-023-08236-2\n",
    "\n",
    "This article uses CNN with AOA (which basically is CNN combined with a more traditional ML method like KNN, SVM or Decision Tree)\n",
    "\n",
    "The results for the TSA-CNN-AOA(SVM) yields an accuracy rate of 95.007%! \n",
    "\n",
    "![Comaprison of TSA-CNN-AOA to traditional ML Methods](https://media.springernature.com/lw685/springer-static/image/art%3A10.1007%2Fs00521-023-08236-2/MediaObjects/521_2023_8236_Fig9_HTML.png?as=webp)"
   ]
  }
 ],
 "metadata": {
  "kernelspec": {
   "display_name": "Python 3",
   "language": "python",
   "name": "python3"
  },
  "language_info": {
   "codemirror_mode": {
    "name": "ipython",
    "version": 3
   },
   "file_extension": ".py",
   "mimetype": "text/x-python",
   "name": "python",
   "nbconvert_exporter": "python",
   "pygments_lexer": "ipython3",
   "version": "3.10.8"
  },
  "orig_nbformat": 4,
  "vscode": {
   "interpreter": {
    "hash": "65fae29be093a2de8a9d4fb8964ce2f11d6cedff164d9ebaf11802649bc13584"
   }
  }
 },
 "nbformat": 4,
 "nbformat_minor": 2
}
