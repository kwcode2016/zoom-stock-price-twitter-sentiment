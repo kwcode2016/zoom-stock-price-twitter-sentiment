{
 "cells": [
  {
   "attachments": {},
   "cell_type": "markdown",
   "metadata": {},
   "source": [
    "# Step 11: Picking Deployment Method and Research"
   ]
  },
  {
   "attachments": {},
   "cell_type": "markdown",
   "metadata": {},
   "source": [
    " In this notebook, I will discuss the deployment strategy for my machine learning project, focusing on the benefits of using Paperspace Gradient as the chosen platform. As a mid-level machine learning engineer, it is essential to choose a deployment method that not only fits the scope of the project but also provides the flexibility to scale and adapt as the project evolves.\n",
    "\n",
    "My research has led me to compare some existing platforms:"
   ]
  },
  {
   "attachments": {},
   "cell_type": "markdown",
   "metadata": {},
   "source": [
    "![Table of ML Deployment Platforms](Table_of_platforms_deploy.png)\n",
    "\n",
    "Fig 1. Table of Deployment Platforms"
   ]
  },
  {
   "attachments": {},
   "cell_type": "markdown",
   "metadata": {},
   "source": [
    "From the research, we see the summary of current deployment platforms:\n",
    "- Dash if you already use Python for your analytics and you want to build production-ready data dashboards for a larger company.\n",
    "- Streamlit if you already use Python for your analytics and you want to get a prototype of your dashboard up and running as quickly as possible.\n",
    "- Shiny if you already use R for your analytics and you want to make the results more accessible to non-technical teams.\n",
    "- Jupyter if your team is very technical and doesn’t mind installing and running developer tools to view analytics.\n",
    "- Voila if you already have Jupyter Notebooks and you want to make them accessible to non-technical teams.\n",
    "- Flask if you want to build your own solution from the ground up.\n",
    "- Panel if you already have Jupyter Notebooks, and Voila is not flexible enough for your needs."
   ]
  },
  {
   "attachments": {},
   "cell_type": "markdown",
   "metadata": {},
   "source": [
    "Checking the history of GitHub stars for each platform, we see the popularity rise."
   ]
  },
  {
   "attachments": {},
   "cell_type": "markdown",
   "metadata": {},
   "source": [
    "![Alt text](Chart_Deployment_Platforms.png)\n",
    "\n",
    "Fig 2. Chart of GitHub Stars for Deployment Platforms"
   ]
  },
  {
   "attachments": {},
   "cell_type": "markdown",
   "metadata": {},
   "source": [
    "We see the meterotic rise of Streamlit which was released only in 2020. Although we see that the maturity of Streamlit is not that much, I have found that it has all the necessary compontents for my project. Also, the ease of use to create a UI using pure Python is a great advantage.\n",
    "\n",
    "### Streamlit is the clear choice"
   ]
  },
  {
   "attachments": {},
   "cell_type": "markdown",
   "metadata": {},
   "source": [
    "Having chosen Streamlit, I researched which webapp platform is most suitable. Having researched AWS, Google Cloud and other web app platforms, I found that Paperspace is the most suitable.\n",
    "\n",
    "Paperspace Gradient is a machine learning platform that offers several advantages for deploying machine learning projects. One of the most significant benefits is its ability to provide a scalable infrastructure, which allows the project to expand and rent GPUs as needed. This flexibility is essential for machine learning projects, as it ensures that the project can grow alongside the increasing computational requirements without any significant disruptions.\n",
    "\n",
    "Additionally, Paperspace Gradient comes equipped with all the necessary machine learning tools, which significantly simplifies the deployment process. As a machine learning engineer, this means that I can focus on developing the project without worrying about setting up the environment or installing various libraries and frameworks, saving time and effort.\n",
    "\n",
    "Another advantage of using Paperspace Gradient is its compatibility with Streamlit, a popular Python-based framework for creating interactive web applications. Streamlit allows for easy development and deployment of machine learning projects, offering a user-friendly interface for both engineers and end-users. Paperspace Gradient's support for Streamlit simplifies the deployment process and ensures seamless integration between the platform and the application. Furthermore, Paperspace has posted a tutorial video that demonstrates how to launch a Streamlit project, providing a valuable resource for engineers looking to deploy their projects using this combination.\n",
    "\n",
    "The free tier offered by Paperspace Gradient includes 5GB of storage, which is more than sufficient for the current project size of less than 1GB. This storage capacity allows for the project's growth, as new data and models can be added without worrying about exceeding storage limits. Moreover, having a generous amount of storage on the free tier provides an opportunity to experiment and develop the project further without incurring additional costs.\n",
    "\n",
    "In conclusion, Paperspace Gradient is an ideal choice for deploying my machine learning project. Its scalability, pre-built machine learning tools, compatibility with Streamlit, and generous storage capacity on the free tier make it a practical and cost-effective solution. By leveraging the advantages of Paperspace Gradient, I can focus on developing and refining the project while ensuring a smooth deployment process. As a mid-level machine learning engineer, it is crucial to manage time effectively and choose a deployment strategy that maximizes efficiency without sacrificing the project's quality or potential for growth. Paperspace Gradient addresses these concerns and provides a solid foundation for the successful deployment and ongoing development of my machine learning project."
   ]
  },
  {
   "attachments": {},
   "cell_type": "markdown",
   "metadata": {},
   "source": [
    "## Webapp Platform to use: Paperspace Gradient."
   ]
  }
 ],
 "metadata": {
  "language_info": {
   "name": "python"
  },
  "orig_nbformat": 4
 },
 "nbformat": 4,
 "nbformat_minor": 2
}
